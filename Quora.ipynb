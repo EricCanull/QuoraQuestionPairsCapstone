{
 "cells": [
  {
   "cell_type": "markdown",
   "metadata": {},
   "source": [
    " # Quora Question Pairs\n",
    " Capstone Project: Eric Canull"
   ]
  },
  {
   "cell_type": "code",
   "execution_count": 1,
   "metadata": {},
   "outputs": [
    {
     "name": "stderr",
     "output_type": "stream",
     "text": [
      "C:\\Users\\ericc\\Anaconda2\\lib\\site-packages\\gensim\\utils.py:1209: UserWarning: detected Windows; aliasing chunkize to chunkize_serial\n",
      "  warnings.warn(\"detected Windows; aliasing chunkize to chunkize_serial\")\n"
     ]
    }
   ],
   "source": [
    "# Import libraries\n",
    "import datetime\n",
    "import logging\n",
    "import os\n",
    "import warnings\n",
    "from time import time\n",
    "\n",
    "import gensim\n",
    "import matplotlib.pyplot as plt\n",
    "import numpy as np\n",
    "import pandas as pd\n",
    "import seaborn as sns\n",
    "from fuzzywuzzy import fuzz\n",
    "from gensim.models import KeyedVectors\n",
    "from gensim.scripts.glove2word2vec import glove2word2vec\n",
    "from nltk import word_tokenize\n",
    "from nltk.corpus import stopwords\n",
    "from scipy.spatial.distance import (braycurtis, canberra, chebyshev, cityblock,\n",
    "                                    cosine, euclidean, jaccard, minkowski,\n",
    "                                    sqeuclidean)\n",
    "from scipy.stats import kurtosis, skew\n",
    "from sklearn import tree\n",
    "from sklearn.ensemble import RandomForestClassifier\n",
    "from sklearn.metrics import accuracy_score\n",
    "from sklearn.metrics import confusion_matrix\n",
    "from sklearn.metrics import classification_report\n",
    "from sklearn.model_selection import KFold\n",
    "from sklearn.model_selection import cross_val_predict\n",
    "from sklearn.model_selection import cross_val_score\n",
    "from sklearn.model_selection import train_test_split\n",
    "from sklearn.naive_bayes import MultinomialNB\n",
    "from sklearn.svm import LinearSVC\n",
    "from tqdm import tqdm_notebook\n",
    "\n",
    "import xgboost as xgb\n",
    "from graphs import histogram, pie_chart, heatmap_chart\n",
    "from textcleaner import clean_text, drop_null\n",
    "\n",
    "warnings.filterwarnings(\"ignore\")\n",
    "start_nb = time()\n"
   ]
  },
  {
   "cell_type": "code",
   "execution_count": 2,
   "metadata": {},
   "outputs": [],
   "source": [
    "# Initialize logging.\n",
    "logging.basicConfig(filename='logs/quora.log',\n",
    "                    format='%(asctime)s : %(levelname)s : %(message)s',\n",
    "                    level=logging.INFO)\n"
   ]
  },
  {
   "cell_type": "code",
   "execution_count": 3,
   "metadata": {},
   "outputs": [],
   "source": [
    "# Global Variables\n",
    "TRAIN_FILE = \"data/train.csv\"\n",
    "TEST_FILE = \"data/test.csv\"\n",
    "GOOGLE_EMBEDDING_FILE = \"data/googlenews/GoogleNews-vectors-negative300.bin.gz\"\n",
    "GLOVE_EMBEDDING_FILE = \"data/glove.6B/glove.6B.200d.txt\"\n",
    "GLOVE_WORD2VEC_FILE = 'data/glove.6B/word2vec/glove.6B.200d.txt.word2vec'\n",
    "GLOVE_WORD2VEC_MODEL = \"models/glove6B.200d.word2vec.model\"\n",
    "GLOVE_WORD2VEC_NORM_MODEL = \"models/glove6B.200d.word2vec.norm.model\"\n",
    "Q1_WMD_TRAINING_DATA_FILE = 'data/npy/q1_wmd_train.npy'\n",
    "Q2_WMD_TRAINING_DATA_FILE = 'data/npy/q2_wmd_train.npy'\n",
    "EMBEDDING_DIM = 200\n",
    "\n",
    "stops = set(stopwords.words(\"english\"))\n"
   ]
  },
  {
   "cell_type": "code",
   "execution_count": 4,
   "metadata": {},
   "outputs": [],
   "source": [
    "# Import files\n",
    "pd.options.mode.chained_assignment = None\n",
    "train_df = pd.read_csv(filepath_or_buffer=TRAIN_FILE)\n",
    "test_df = pd.read_csv(filepath_or_buffer=TEST_FILE)\n"
   ]
  },
  {
   "cell_type": "code",
   "execution_count": 5,
   "metadata": {},
   "outputs": [],
   "source": [
    "# Loading into a Gensim Word2Vec model class may take several minutes.\n",
    "if not os.path.exists(GLOVE_EMBEDDING_FILE):\n",
    "    raise FileNotFoundError(\n",
    "        \"Warning! You need to download the Glove embeddings\")\n",
    "\n",
    "if not os.path.exists(GLOVE_WORD2VEC_FILE):\n",
    "    glove2word2vec(GLOVE_EMBEDDING_FILE, GLOVE_WORD2VEC_FILE)\n",
    "    word2vec = KeyedVectors.load_word2vec_format(\n",
    "        GLOVE_EMBEDDING_FILE, binary=False)\n",
    "else:\n",
    "    word2vec = gensim.models.KeyedVectors.load(GLOVE_WORD2VEC_MODEL)\n"
   ]
  },
  {
   "cell_type": "markdown",
   "metadata": {},
   "source": [
    " ## L<sup>2</sup> unit-normalized WMD\n",
    " ### Necessary for computing cosine similiarity"
   ]
  },
  {
   "cell_type": "code",
   "execution_count": 6,
   "metadata": {},
   "outputs": [],
   "source": [
    "# Loading into a Gensim Word2Vec model class may take several minutes.\n",
    "if not os.path.exists(GLOVE_WORD2VEC_NORM_MODEL):\n",
    "    norm_word2vec = word2vec\n",
    "    norm_word2vec.init_sims(replace=True)\n",
    "else:\n",
    "    norm_word2vec = gensim.models.KeyedVectors.load(GLOVE_WORD2VEC_NORM_MODEL)\n"
   ]
  },
  {
   "cell_type": "code",
   "execution_count": 7,
   "metadata": {},
   "outputs": [
    {
     "data": {
      "text/plain": [
       "id              0\n",
       "qid1            0\n",
       "qid2            0\n",
       "question1       1\n",
       "question2       2\n",
       "is_duplicate    0\n",
       "dtype: int64"
      ]
     },
     "execution_count": 7,
     "metadata": {},
     "output_type": "execute_result"
    }
   ],
   "source": [
    "# Null counts in training set\n",
    "train_df.isnull().sum()\n"
   ]
  },
  {
   "cell_type": "code",
   "execution_count": 8,
   "metadata": {},
   "outputs": [
    {
     "data": {
      "text/plain": [
       "test_id      0\n",
       "question1    4\n",
       "question2    6\n",
       "dtype: int64"
      ]
     },
     "execution_count": 8,
     "metadata": {},
     "output_type": "execute_result"
    }
   ],
   "source": [
    "# Null counts in test set\n",
    "test_df.isnull().sum()\n"
   ]
  },
  {
   "cell_type": "code",
   "execution_count": 9,
   "metadata": {},
   "outputs": [],
   "source": [
    "# Drop rows with null values\n",
    "train_df = drop_null(train_df)\n",
    "test_df = drop_null(test_df)\n",
    "\n"
   ]
  },
  {
   "cell_type": "code",
   "execution_count": 10,
   "metadata": {},
   "outputs": [],
   "source": [
    "# Prints 10 questions at positions (0, 10, 20, etc...)\n",
    "# print_null_counts(train_df, test_df)\n",
    "def print_questions(df):\n",
    "    a = 0\n",
    "    for i in range(a, a+10):\n",
    "        print(train_df.question1[i])\n",
    "        print(train_df.question2[i])\n",
    "        print()\n",
    "\n"
   ]
  },
  {
   "cell_type": "code",
   "execution_count": 11,
   "metadata": {},
   "outputs": [
    {
     "data": {
      "text/html": [
       "<div>\n",
       "<style scoped>\n",
       "    .dataframe tbody tr th:only-of-type {\n",
       "        vertical-align: middle;\n",
       "    }\n",
       "\n",
       "    .dataframe tbody tr th {\n",
       "        vertical-align: top;\n",
       "    }\n",
       "\n",
       "    .dataframe thead th {\n",
       "        text-align: right;\n",
       "    }\n",
       "</style>\n",
       "<table border=\"1\" class=\"dataframe\">\n",
       "  <thead>\n",
       "    <tr style=\"text-align: right;\">\n",
       "      <th></th>\n",
       "      <th>id</th>\n",
       "      <th>qid1</th>\n",
       "      <th>qid2</th>\n",
       "      <th>is_duplicate</th>\n",
       "    </tr>\n",
       "  </thead>\n",
       "  <tbody>\n",
       "    <tr>\n",
       "      <th>count</th>\n",
       "      <td>404287.000000</td>\n",
       "      <td>404287.000000</td>\n",
       "      <td>404287.000000</td>\n",
       "      <td>404287.000000</td>\n",
       "    </tr>\n",
       "    <tr>\n",
       "      <th>mean</th>\n",
       "      <td>202144.340337</td>\n",
       "      <td>217243.151093</td>\n",
       "      <td>220955.212082</td>\n",
       "      <td>0.369201</td>\n",
       "    </tr>\n",
       "    <tr>\n",
       "      <th>std</th>\n",
       "      <td>116708.673691</td>\n",
       "      <td>157751.614317</td>\n",
       "      <td>159903.168488</td>\n",
       "      <td>0.482589</td>\n",
       "    </tr>\n",
       "    <tr>\n",
       "      <th>min</th>\n",
       "      <td>0.000000</td>\n",
       "      <td>1.000000</td>\n",
       "      <td>2.000000</td>\n",
       "      <td>0.000000</td>\n",
       "    </tr>\n",
       "    <tr>\n",
       "      <th>25%</th>\n",
       "      <td>101071.500000</td>\n",
       "      <td>74436.500000</td>\n",
       "      <td>74726.500000</td>\n",
       "      <td>0.000000</td>\n",
       "    </tr>\n",
       "    <tr>\n",
       "      <th>50%</th>\n",
       "      <td>202145.000000</td>\n",
       "      <td>192181.000000</td>\n",
       "      <td>197053.000000</td>\n",
       "      <td>0.000000</td>\n",
       "    </tr>\n",
       "    <tr>\n",
       "      <th>75%</th>\n",
       "      <td>303216.500000</td>\n",
       "      <td>346573.000000</td>\n",
       "      <td>354692.000000</td>\n",
       "      <td>1.000000</td>\n",
       "    </tr>\n",
       "    <tr>\n",
       "      <th>max</th>\n",
       "      <td>404289.000000</td>\n",
       "      <td>537932.000000</td>\n",
       "      <td>537933.000000</td>\n",
       "      <td>1.000000</td>\n",
       "    </tr>\n",
       "  </tbody>\n",
       "</table>\n",
       "</div>"
      ],
      "text/plain": [
       "                  id           qid1           qid2   is_duplicate\n",
       "count  404287.000000  404287.000000  404287.000000  404287.000000\n",
       "mean   202144.340337  217243.151093  220955.212082       0.369201\n",
       "std    116708.673691  157751.614317  159903.168488       0.482589\n",
       "min         0.000000       1.000000       2.000000       0.000000\n",
       "25%    101071.500000   74436.500000   74726.500000       0.000000\n",
       "50%    202145.000000  192181.000000  197053.000000       0.000000\n",
       "75%    303216.500000  346573.000000  354692.000000       1.000000\n",
       "max    404289.000000  537932.000000  537933.000000       1.000000"
      ]
     },
     "execution_count": 11,
     "metadata": {},
     "output_type": "execute_result"
    }
   ],
   "source": [
    "# Training dataset summary statistics\n",
    "train_df.describe()\n"
   ]
  },
  {
   "cell_type": "code",
   "execution_count": 16,
   "metadata": {},
   "outputs": [
    {
     "data": {
      "image/png": "[encoded data removed]",
      "text/plain": [
       "<Figure size 720x504 with 1 Axes>"
      ]
     },
     "metadata": {},
     "output_type": "display_data"
    },
    {
     "data": {
      "image/png": "[encoded data removed]",
      "text/plain": [
       "<Figure size 864x576 with 2 Axes>"
      ]
     },
     "metadata": {},
     "output_type": "display_data"
    }
   ],
   "source": [
    "# Charts and graphs\n",
    "plt.style.use('ggplot')\n",
    "pie_chart(train_df)\n",
    "histogram(train_df, test_df)\n"
   ]
  },
  {
   "cell_type": "code",
   "execution_count": 17,
   "metadata": {},
   "outputs": [],
   "source": []
  }
 ],
 "metadata": {
  "file_extension": ".py",
  "kernelspec": {
   "display_name": "Python 3",
   "language": "python",
   "name": "python3"
  },
  "language_info": {
   "codemirror_mode": {
    "name": "ipython",
    "version": 3
   },
   "file_extension": ".py",
   "mimetype": "text/x-python",
   "name": "python",
   "nbconvert_exporter": "python",
   "pygments_lexer": "ipython3",
   "version": "3.6.8"
  },
  "mimetype": "text/x-python",
  "name": "python",
  "npconvert_exporter": "python",
  "pygments_lexer": "ipython3",
  "version": 3
 },
 "nbformat": 4,
 "nbformat_minor": 2
}
